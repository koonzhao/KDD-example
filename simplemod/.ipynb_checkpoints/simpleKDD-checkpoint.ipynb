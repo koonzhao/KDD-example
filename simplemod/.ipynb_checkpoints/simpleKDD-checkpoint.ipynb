{
 "cells": [
  {
   "cell_type": "code",
   "execution_count": 1,
   "metadata": {
    "collapsed": true
   },
   "outputs": [],
   "source": [
    "#coding-utf-8"
   ]
  },
  {
   "cell_type": "markdown",
   "metadata": {},
   "source": [
    "### KNN算法"
   ]
  },
  {
   "cell_type": "code",
   "execution_count": 2,
   "metadata": {
    "collapsed": true
   },
   "outputs": [],
   "source": [
    "from numpy import * \n",
    "import operator"
   ]
  },
  {
   "cell_type": "code",
   "execution_count": 7,
   "metadata": {
    "collapsed": true
   },
   "outputs": [],
   "source": [
    "#create a dataset which contains 4 samples with 2 classes\n",
    "\n",
    "def createDataSet():\n",
    "    group = array([[1.0, 0.9], [1.0, 1.0], [0.1, 0.2], [0.0, 0.1]])\n",
    "    labels = ['A', 'A', 'B', 'B']\n",
    "    return group, labels"
   ]
  },
  {
   "cell_type": "markdown",
   "metadata": {},
   "source": [
    "#### 创建一个KNN分类器"
   ]
  },
  {
   "cell_type": "code",
   "execution_count": 9,
   "metadata": {
    "collapsed": true
   },
   "outputs": [],
   "source": [
    "def kNNClassify(newInput, dataSet, labels, k):\n",
    "    numSamples = dataSet.shape[0] #样本的个数\n",
    "    \n",
    "    diff = tile(newInput, (numSamples, 1)) - dataSet #求新样本和每个数据集特征值的差\n",
    "    distance = sum(diff ** 2, axis =1) ** 0.5        #求欧式距离\n",
    "    \n",
    "    sortedDisIndices = argsort(distance) #对欧氏距离进行从小到大排序,得到数据的索引\n",
    "    classCount = {} #定义一个字典来存储标记和个数\n",
    "    for i in range(k):\n",
    "        voteLabel = labels[sortedDisIndices[i]]\n",
    "        classCount[voteLabel] = classCount.get(voteLabel, 0) + 1\n",
    "        \n",
    "    #求邻近K个最多的标记\n",
    "    maxCount = 0\n",
    "    for key, value in classCount.items():\n",
    "        if value > maxCount:\n",
    "            maxCount = value\n",
    "            maxKey = key\n",
    "            \n",
    "    return maxKey"
   ]
  },
  {
   "cell_type": "markdown",
   "metadata": {},
   "source": [
    "#### 测试"
   ]
  },
  {
   "cell_type": "code",
   "execution_count": 11,
   "metadata": {
    "collapsed": false
   },
   "outputs": [
    {
     "name": "stdout",
     "output_type": "stream",
     "text": [
      "your input is:  [ 1.2  1. ] and classified to class:  A\n",
      "your input is:  [ 0.2  0.6] and classified to class:  B\n"
     ]
    }
   ],
   "source": [
    "dataSet, labels = createDataSet()\n",
    "\n",
    "testX = array([1.2, 1.0])\n",
    "outputLabel = kNNClassify(testX, dataSet, labels, 3)\n",
    "print ('your input is: ', testX, 'and classified to class: ', outputLabel)\n",
    "\n",
    "testX = array([0.2, 0.6])\n",
    "outputLabel = kNNClassify(testX, dataSet, labels, 3)\n",
    "print ('your input is: ', testX, 'and classified to class: ', outputLabel)"
   ]
  },
  {
   "cell_type": "code",
   "execution_count": null,
   "metadata": {
    "collapsed": true
   },
   "outputs": [],
   "source": []
  }
 ],
 "metadata": {
  "kernelspec": {
   "display_name": "Python 3",
   "language": "python",
   "name": "python3"
  },
  "language_info": {
   "codemirror_mode": {
    "name": "ipython",
    "version": 3
   },
   "file_extension": ".py",
   "mimetype": "text/x-python",
   "name": "python",
   "nbconvert_exporter": "python",
   "pygments_lexer": "ipython3",
   "version": "3.5.2"
  }
 },
 "nbformat": 4,
 "nbformat_minor": 1
}
