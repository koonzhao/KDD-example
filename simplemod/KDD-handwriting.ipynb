{
 "cells": [
  {
   "cell_type": "markdown",
   "metadata": {},
   "source": [
    "## KNN算法实现手写数字的识别"
   ]
  },
  {
   "cell_type": "code",
   "execution_count": 2,
   "metadata": {
    "collapsed": true
   },
   "outputs": [],
   "source": [
    "#coding=utf-8"
   ]
  },
  {
   "cell_type": "code",
   "execution_count": 10,
   "metadata": {
    "collapsed": true
   },
   "outputs": [],
   "source": [
    "from numpy import *\n",
    "import operator\n",
    "import os"
   ]
  },
  {
   "cell_type": "markdown",
   "metadata": {},
   "source": [
    "#### KNN分类器的设计"
   ]
  },
  {
   "cell_type": "code",
   "execution_count": 24,
   "metadata": {
    "collapsed": true
   },
   "outputs": [],
   "source": [
    "# classify using KNN\n",
    "def kNNClassify(newInput, dataSet, labels, k):\n",
    "    numSamples = dataSet.shape[0]    #样本数\n",
    "    diff = tile(newInput, (numSamples, 1)) - dataSet  #计算与每个样本点的差\n",
    "    distance = sum(diff ** 2, axis = 1) ** 0.5        #计算欧几里得距离\n",
    "    sortDisIndices = argsort(distance)                #从小到大排序，返回索引值\n",
    "    \n",
    "    #计算k近邻的样本的类型及个数\n",
    "    classCount = {}\n",
    "    for i in range(k):\n",
    "        label = labels[sortDisIndices[i]]\n",
    "        classCount[label] = classCount.get(label, 0) + 1\n",
    "    \n",
    "    #求个数最多的类型\n",
    "    maxValue = 0\n",
    "    for key, value in classCount.items():\n",
    "        if value > maxValue:\n",
    "            maxValue = value\n",
    "            maxKey = key\n",
    "            \n",
    "    return maxKey\n",
    "    \n",
    "        "
   ]
  },
  {
   "cell_type": "markdown",
   "metadata": {},
   "source": [
    "#### 图像转化成向量"
   ]
  },
  {
   "cell_type": "code",
   "execution_count": 20,
   "metadata": {
    "collapsed": true
   },
   "outputs": [],
   "source": [
    "# covert image to vector\n",
    "def img2vector(filename):\n",
    "    rows = 32\n",
    "    cols = 32\n",
    "    imgVector = zeros((1, rows * cols))\n",
    "    fileIn = open(filename)\n",
    "    \n",
    "    for row in range(rows):\n",
    "        lineStr = fileIn.readline()\n",
    "        for col in range(cols):\n",
    "            imgVector[0, row * 32 + col] = int(lineStr[col])\n",
    "\n",
    "    return imgVector\n",
    "    \n",
    "    "
   ]
  },
  {
   "cell_type": "markdown",
   "metadata": {},
   "source": [
    "#### 加载数据集"
   ]
  },
  {
   "cell_type": "code",
   "execution_count": 13,
   "metadata": {
    "collapsed": false
   },
   "outputs": [],
   "source": [
    "#load dataSet\n",
    "def loadDataSet():\n",
    "    ## step1: Getting training set\n",
    "    print ('---Getting training set...')\n",
    "    dataSetDir = 'C:/Users/James_kk/Documents/GitHub/KDD-example/simplemod/'\n",
    "    \n",
    "    trainingFileList = os.listdir(dataSetDir + 'trainingDigits') #加载训练数据\n",
    "    numSamples = len(trainingFileList)\n",
    "    \n",
    "    train_x = zeros((numSamples, 1024))\n",
    "    train_y = []\n",
    "    \n",
    "    for i in range(numSamples):\n",
    "        filename = trainingFileList[i]\n",
    "        train_x[i, :] = img2vector(dataSetDir + 'trainingDigits/%s' % filename)\n",
    "        \n",
    "        #从文件名字让得到标记,例如 '1_18.txt'\n",
    "        label = int(filename.split('_')[0])\n",
    "        train_y.append(label)\n",
    "        \n",
    "    ##step2: Getting testing set\n",
    "    print('---Getting testing set...')\n",
    "    testingFileList = os.listdir(dataSetDir + 'testDigits')\n",
    "    numSamples = len(testingFileList)\n",
    "    \n",
    "    test_x = zeros((numSamples, 1024))\n",
    "    test_y = []\n",
    "    \n",
    "    for i in range(numSamples):\n",
    "        filename = testingFileList[i]\n",
    "        test_x[i, :] = img2vector(dataSetDir + 'testDigits/%s' % filename)\n",
    "        \n",
    "        label = int(filename.split('_')[0])\n",
    "        test_y.append(label)\n",
    "        \n",
    "    return train_x, train_y, test_x, test_y\n",
    "\n",
    "\n"
   ]
  },
  {
   "cell_type": "markdown",
   "metadata": {},
   "source": [
    "#### 测试手写数字分类"
   ]
  },
  {
   "cell_type": "code",
   "execution_count": 14,
   "metadata": {
    "collapsed": true
   },
   "outputs": [],
   "source": [
    "# test hand writing class\n",
    "def testHandWritingClass():\n",
    "    print('step1: load data...')\n",
    "    train_x, train_y, test_x, test_y = loadDataSet()\n",
    "    \n",
    "    print('step2: training...')\n",
    "    \n",
    "    print('step3: testing...')\n",
    "    numTestSamples = test_x.shape[0]\n",
    "    matchCount = 0\n",
    "    \n",
    "    for i in range(numTestSamples):\n",
    "        predict = kNNClassify(test_x[i], train_x, train_y, 3)\n",
    "        if predict == test_y[i]:\n",
    "            matchCount += 1\n",
    "            \n",
    "    accuracy = float(matchCount) / numTestSamples\n",
    "    \n",
    "    print('step4: show the result...')\n",
    "    print('The classify accuracy is: %.2f%%' % (accuracy * 100))\n",
    "    \n",
    "    \n",
    "    \n",
    "    \n",
    "    "
   ]
  },
  {
   "cell_type": "code",
   "execution_count": null,
   "metadata": {
    "collapsed": false
   },
   "outputs": [
    {
     "name": "stdout",
     "output_type": "stream",
     "text": [
      "step1: load data...\n",
      "---Getting training set...\n",
      "---Getting testing set...\n",
      "step2: training...\n",
      "step3: testing...\n"
     ]
    }
   ],
   "source": [
    "testHandWritingClass()"
   ]
  },
  {
   "cell_type": "code",
   "execution_count": null,
   "metadata": {
    "collapsed": true
   },
   "outputs": [],
   "source": []
  }
 ],
 "metadata": {
  "kernelspec": {
   "display_name": "Python 3",
   "language": "python",
   "name": "python3"
  },
  "language_info": {
   "codemirror_mode": {
    "name": "ipython",
    "version": 3
   },
   "file_extension": ".py",
   "mimetype": "text/x-python",
   "name": "python",
   "nbconvert_exporter": "python",
   "pygments_lexer": "ipython3",
   "version": "3.5.2"
  }
 },
 "nbformat": 4,
 "nbformat_minor": 1
}
